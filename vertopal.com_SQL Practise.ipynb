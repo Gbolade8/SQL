{
 "cells": [
  {
   "cell_type": "markdown",
   "metadata": {},
   "source": [
    "SELECT destination , passanger , time AS ‘The time’ FROM dataset_1 WHERE\n",
    "passanger = ‘Alone’ AND weather = ‘Sunny’ AND destination = ‘Home’ OR\n",
    "time = ‘2pm’ ORDER BY time DESC;\n",
    "\n",
    "SELECT destination, time, AVG (temperature), SUM (temperature), COUNT\n",
    "(temperature), COUNT (DISTINCT temperature) FROM dataset_1 d WHERE time\n",
    "\\<\\> ‘10pm’ GROUP BY destination, time –HAVING occupation = ‘student’\n",
    "ORDER BY time;\n",
    "\n",
    "SELECT * FROM dataset_1 d UNION SELECT * FROM table_to_union;\n",
    "\n",
    "SELECT \\* FROM table_to_join ttj;\n",
    "\n",
    "SELECT destination, d.time, ttj.part_of_day FROM dataset_1 d LEFT JOIN\n",
    "table_to_join ttj ON d.time = ttj.time\n",
    "\n",
    "SELECT \\* FROM dataset_1 d WHERE d.time LIKE ‘%p%’;\n",
    "\n",
    "SELECT DISTINCT temperature FROM dataset_1 WHERE temperature BETWEEN 29\n",
    "AND 75;\n",
    "\n",
    "SELECT occupation FROM dataset_1 d WHERE occupation IN (‘sales &\n",
    "related’, ‘management’)"
   ],
   "id": "42a14256-91c8-446e-92a7-ab6bf11055d3"
  }
 ],
 "nbformat": 4,
 "nbformat_minor": 5,
 "metadata": {}
}
